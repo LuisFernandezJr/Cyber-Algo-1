{
 "cells": [
  {
   "cell_type": "code",
   "execution_count": 1,
   "metadata": {},
   "outputs": [],
   "source": [
    "#Reading the Normal - csv files from the directory\n",
    "\n",
    "import os\n",
    "import glob\n",
    "import pandas as pd\n",
    "\n",
    "def concatenate(indir='/Users/vamsi_5/Downloads/normalcsvs'):\n",
    "    os.chdir(indir)\n",
    "    fileList = glob.glob(\"*.csv\")\n",
    "    List=[]\n",
    "    for i in fileList:\n",
    "        print(i)\n",
    "        df = pd.read_csv(i)\n",
    "        List.append(df)\n",
    "    concatdF = pd.concat(List,axis=0)\n",
    "    \n",
    "    return concatdF\n",
    "    \n",
    "    \n"
   ]
  },
  {
   "cell_type": "code",
   "execution_count": 2,
   "metadata": {},
   "outputs": [],
   "source": [
    "#Reading the Malware - csv files from the directory\n",
    "\n",
    "def concatenate2(indir='/Users/vamsi_5/Downloads/malwareCSV'):\n",
    "    os.chdir(indir)\n",
    "    fileList = glob.glob(\"*.csv\")\n",
    "    List=[]\n",
    "    for i in fileList:\n",
    "        print(i)\n",
    "        df = pd.read_csv(i)\n",
    "        List.append(df)\n",
    "    concatdF2 = pd.concat(List,axis=0)\n",
    "    \n",
    "    return concatdF2\n",
    "    "
   ]
  },
  {
   "cell_type": "code",
   "execution_count": 3,
   "metadata": {},
   "outputs": [
    {
     "name": "stdout",
     "output_type": "stream",
     "text": [
      "updated_2017-05-01_normal-2.pcap.csv\n",
      "updated_2017-04-25_win-normal.pcap.csv\n",
      "updated_2017_04_30-normal.pcap.csv\n",
      "updated_2017-04-28_normal.pcap.csv\n",
      "updated_2017-04-18_win-normal.pcap.csv\n",
      "updated_2017-04-19_win-normal.pcap.csv\n",
      "malwareCapture4.csv\n",
      "malwareCapture5.csv\n",
      "malwareCapture7.csv\n",
      "malwareCapture6.csv\n",
      "malwareCapture2.csv\n",
      "malwareCapture3.csv\n",
      "malwareCapture1.csv\n",
      "malwareCapture11.csv\n",
      "malwareCapture12.csv\n",
      "malwareCapture13.csv\n",
      "malwareCapture8.csv\n"
     ]
    }
   ],
   "source": [
    "#Fucntion Call\n",
    "Normal_DF = concatenate()\n",
    "Malware_DF = concatenate2()"
   ]
  },
  {
   "cell_type": "code",
   "execution_count": 5,
   "metadata": {},
   "outputs": [],
   "source": [
    "#Reading from multiple files, index re-starts at every new file. To have every thing in sequence\n",
    "Normal_DF.reset_index(drop=True, inplace=True)\n",
    "Malware_DF.reset_index(drop=True, inplace=True)"
   ]
  },
  {
   "cell_type": "code",
   "execution_count": 6,
   "metadata": {},
   "outputs": [
    {
     "data": {
      "text/plain": [
       "Index(['IP Source', 'IP Destination', 'Source Port', 'Destination Port',\n",
       "       'TCP Flag Nonce', 'TCP Flag Congestion Window Reduced',\n",
       "       'TCP Flag ECN-Echo', 'TCP Flag Urgent', 'TCP Flag Acknowledgement',\n",
       "       'TCP Flag Push', 'TCP Flag Reset', 'TCP Flag Syn', 'TCP Flag Fin',\n",
       "       ' Malicious'],\n",
       "      dtype='object')"
      ]
     },
     "execution_count": 6,
     "metadata": {},
     "output_type": "execute_result"
    }
   ],
   "source": [
    "Normal_DF.columns"
   ]
  },
  {
   "cell_type": "code",
   "execution_count": 7,
   "metadata": {},
   "outputs": [
    {
     "name": "stdout",
     "output_type": "stream",
     "text": [
      "3881\n",
      "1016\n"
     ]
    }
   ],
   "source": [
    "#No of unique values are too much, Can we really label encode IP addresses ?\n",
    "print(Normal_DF['IP Source'].nunique())\n",
    "print(Malware_DF['IP Source'].nunique())"
   ]
  },
  {
   "cell_type": "code",
   "execution_count": 8,
   "metadata": {},
   "outputs": [],
   "source": [
    "#Splitting the IP source into 4 columns based on '.'\n",
    "Normal_DF['IP1'],Normal_DF['IP2'],Normal_DF['IP3'],Normal_DF['IP4'] = Normal_DF['IP Source'].str.split('.', 0).str\n",
    "Normal_DF['IP5'],Normal_DF['IP6'],Normal_DF['IP7'],Normal_DF['IP8'] = Normal_DF['IP Destination'].str.split('.', 0).str"
   ]
  },
  {
   "cell_type": "code",
   "execution_count": 9,
   "metadata": {},
   "outputs": [],
   "source": [
    "#Splitting the IP source into 4 columns based on '.'\n",
    "Malware_DF['IP1'],Malware_DF['IP2'],Malware_DF['IP3'],Malware_DF['IP4'] = Malware_DF['IP Source'].str.split('.', 0).str\n",
    "Malware_DF['IP5'],Malware_DF['IP6'],Malware_DF['IP7'],Malware_DF['IP8'] = Malware_DF['IP Destination'].str.split('.', 0).str"
   ]
  },
  {
   "cell_type": "code",
   "execution_count": 10,
   "metadata": {},
   "outputs": [],
   "source": [
    "#Converting the columns to numeric.\n",
    "cols = ['IP1','IP2','IP3','IP4','IP5','IP6','IP7','IP8']\n",
    "for i in cols:\n",
    "    Normal_DF[i] = pd.to_numeric(Normal_DF[i])\n",
    "    Malware_DF[i] = pd.to_numeric(Malware_DF[i])\n",
    "    "
   ]
  },
  {
   "cell_type": "code",
   "execution_count": 11,
   "metadata": {},
   "outputs": [],
   "source": [
    "#Converting the columns to boolean\n",
    "cols2 = ['TCP Flag Nonce', 'TCP Flag Congestion Window Reduced',\n",
    "       'TCP Flag ECN-Echo', 'TCP Flag Urgent', 'TCP Flag Acknowledgement',\n",
    "       'TCP Flag Push', 'TCP Flag Reset', 'TCP Flag Syn', 'TCP Flag Fin',\n",
    "       ' Malicious']\n",
    "\n",
    "for i in cols2:\n",
    "    Normal_DF[i] = Normal_DF[i].astype('bool')\n",
    "    Malware_DF[i] = Malware_DF[i].astype('bool')"
   ]
  },
  {
   "cell_type": "code",
   "execution_count": 12,
   "metadata": {},
   "outputs": [],
   "source": [
    "#Dropping the columns\n",
    "Normal_DF.drop(['IP Source', 'IP Destination'], axis=1, inplace=True)\n",
    "Malware_DF.drop(['IP Source', 'IP Destination'], axis=1,inplace=True)"
   ]
  },
  {
   "cell_type": "code",
   "execution_count": 13,
   "metadata": {},
   "outputs": [],
   "source": [
    "#Concatenating the Normal and Malware DataFrames\n",
    "Final_DF = pd.concat([Normal_DF,Malware_DF])"
   ]
  },
  {
   "cell_type": "code",
   "execution_count": 14,
   "metadata": {},
   "outputs": [
    {
     "data": {
      "text/html": [
       "<div>\n",
       "<style scoped>\n",
       "    .dataframe tbody tr th:only-of-type {\n",
       "        vertical-align: middle;\n",
       "    }\n",
       "\n",
       "    .dataframe tbody tr th {\n",
       "        vertical-align: top;\n",
       "    }\n",
       "\n",
       "    .dataframe thead th {\n",
       "        text-align: right;\n",
       "    }\n",
       "</style>\n",
       "<table border=\"1\" class=\"dataframe\">\n",
       "  <thead>\n",
       "    <tr style=\"text-align: right;\">\n",
       "      <th></th>\n",
       "      <th>Source Port</th>\n",
       "      <th>Destination Port</th>\n",
       "      <th>TCP Flag Nonce</th>\n",
       "      <th>TCP Flag Congestion Window Reduced</th>\n",
       "      <th>TCP Flag ECN-Echo</th>\n",
       "      <th>TCP Flag Urgent</th>\n",
       "      <th>TCP Flag Acknowledgement</th>\n",
       "      <th>TCP Flag Push</th>\n",
       "      <th>TCP Flag Reset</th>\n",
       "      <th>TCP Flag Syn</th>\n",
       "      <th>TCP Flag Fin</th>\n",
       "      <th>Malicious</th>\n",
       "      <th>IP1</th>\n",
       "      <th>IP2</th>\n",
       "      <th>IP3</th>\n",
       "      <th>IP4</th>\n",
       "      <th>IP5</th>\n",
       "      <th>IP6</th>\n",
       "      <th>IP7</th>\n",
       "      <th>IP8</th>\n",
       "    </tr>\n",
       "  </thead>\n",
       "  <tbody>\n",
       "    <tr>\n",
       "      <th>0</th>\n",
       "      <td>49157</td>\n",
       "      <td>80</td>\n",
       "      <td>False</td>\n",
       "      <td>False</td>\n",
       "      <td>False</td>\n",
       "      <td>False</td>\n",
       "      <td>False</td>\n",
       "      <td>False</td>\n",
       "      <td>False</td>\n",
       "      <td>True</td>\n",
       "      <td>False</td>\n",
       "      <td>False</td>\n",
       "      <td>10</td>\n",
       "      <td>0</td>\n",
       "      <td>2</td>\n",
       "      <td>15</td>\n",
       "      <td>161</td>\n",
       "      <td>69</td>\n",
       "      <td>12</td>\n",
       "      <td>13</td>\n",
       "    </tr>\n",
       "    <tr>\n",
       "      <th>1</th>\n",
       "      <td>80</td>\n",
       "      <td>49157</td>\n",
       "      <td>False</td>\n",
       "      <td>False</td>\n",
       "      <td>False</td>\n",
       "      <td>False</td>\n",
       "      <td>True</td>\n",
       "      <td>False</td>\n",
       "      <td>False</td>\n",
       "      <td>True</td>\n",
       "      <td>False</td>\n",
       "      <td>False</td>\n",
       "      <td>161</td>\n",
       "      <td>69</td>\n",
       "      <td>12</td>\n",
       "      <td>13</td>\n",
       "      <td>10</td>\n",
       "      <td>0</td>\n",
       "      <td>2</td>\n",
       "      <td>15</td>\n",
       "    </tr>\n",
       "    <tr>\n",
       "      <th>2</th>\n",
       "      <td>49157</td>\n",
       "      <td>80</td>\n",
       "      <td>False</td>\n",
       "      <td>False</td>\n",
       "      <td>False</td>\n",
       "      <td>False</td>\n",
       "      <td>True</td>\n",
       "      <td>False</td>\n",
       "      <td>False</td>\n",
       "      <td>False</td>\n",
       "      <td>False</td>\n",
       "      <td>False</td>\n",
       "      <td>10</td>\n",
       "      <td>0</td>\n",
       "      <td>2</td>\n",
       "      <td>15</td>\n",
       "      <td>161</td>\n",
       "      <td>69</td>\n",
       "      <td>12</td>\n",
       "      <td>13</td>\n",
       "    </tr>\n",
       "    <tr>\n",
       "      <th>3</th>\n",
       "      <td>49157</td>\n",
       "      <td>80</td>\n",
       "      <td>False</td>\n",
       "      <td>False</td>\n",
       "      <td>False</td>\n",
       "      <td>False</td>\n",
       "      <td>True</td>\n",
       "      <td>False</td>\n",
       "      <td>False</td>\n",
       "      <td>False</td>\n",
       "      <td>True</td>\n",
       "      <td>False</td>\n",
       "      <td>10</td>\n",
       "      <td>0</td>\n",
       "      <td>2</td>\n",
       "      <td>15</td>\n",
       "      <td>161</td>\n",
       "      <td>69</td>\n",
       "      <td>12</td>\n",
       "      <td>13</td>\n",
       "    </tr>\n",
       "    <tr>\n",
       "      <th>4</th>\n",
       "      <td>80</td>\n",
       "      <td>49157</td>\n",
       "      <td>False</td>\n",
       "      <td>False</td>\n",
       "      <td>False</td>\n",
       "      <td>False</td>\n",
       "      <td>True</td>\n",
       "      <td>False</td>\n",
       "      <td>False</td>\n",
       "      <td>False</td>\n",
       "      <td>False</td>\n",
       "      <td>False</td>\n",
       "      <td>161</td>\n",
       "      <td>69</td>\n",
       "      <td>12</td>\n",
       "      <td>13</td>\n",
       "      <td>10</td>\n",
       "      <td>0</td>\n",
       "      <td>2</td>\n",
       "      <td>15</td>\n",
       "    </tr>\n",
       "  </tbody>\n",
       "</table>\n",
       "</div>"
      ],
      "text/plain": [
       "   Source Port  Destination Port  TCP Flag Nonce  \\\n",
       "0        49157                80           False   \n",
       "1           80             49157           False   \n",
       "2        49157                80           False   \n",
       "3        49157                80           False   \n",
       "4           80             49157           False   \n",
       "\n",
       "   TCP Flag Congestion Window Reduced  TCP Flag ECN-Echo  TCP Flag Urgent  \\\n",
       "0                               False              False            False   \n",
       "1                               False              False            False   \n",
       "2                               False              False            False   \n",
       "3                               False              False            False   \n",
       "4                               False              False            False   \n",
       "\n",
       "   TCP Flag Acknowledgement  TCP Flag Push  TCP Flag Reset  TCP Flag Syn  \\\n",
       "0                     False          False           False          True   \n",
       "1                      True          False           False          True   \n",
       "2                      True          False           False         False   \n",
       "3                      True          False           False         False   \n",
       "4                      True          False           False         False   \n",
       "\n",
       "   TCP Flag Fin   Malicious  IP1  IP2  IP3  IP4  IP5  IP6  IP7  IP8  \n",
       "0         False       False   10    0    2   15  161   69   12   13  \n",
       "1         False       False  161   69   12   13   10    0    2   15  \n",
       "2         False       False   10    0    2   15  161   69   12   13  \n",
       "3          True       False   10    0    2   15  161   69   12   13  \n",
       "4         False       False  161   69   12   13   10    0    2   15  "
      ]
     },
     "execution_count": 14,
     "metadata": {},
     "output_type": "execute_result"
    }
   ],
   "source": [
    "#Resetting the index\n",
    "Final_DF.reset_index(drop=True, inplace=True)\n",
    "Final_DF.head()"
   ]
  },
  {
   "cell_type": "code",
   "execution_count": 16,
   "metadata": {},
   "outputs": [],
   "source": [
    "#Importing the Machine learning Algorithms from the sklearn library\n",
    "from sklearn.linear_model import LogisticRegression\n",
    "from sklearn.ensemble import RandomForestClassifier"
   ]
  },
  {
   "cell_type": "code",
   "execution_count": 17,
   "metadata": {},
   "outputs": [],
   "source": [
    "X = Final_DF[['Source Port', 'Destination Port', 'TCP Flag Nonce',\n",
    "       'TCP Flag Congestion Window Reduced', 'TCP Flag ECN-Echo',\n",
    "       'TCP Flag Urgent', 'TCP Flag Acknowledgement', 'TCP Flag Push',\n",
    "       'TCP Flag Reset', 'TCP Flag Syn', 'TCP Flag Fin','IP1',\n",
    "       'IP2', 'IP3', 'IP4', 'IP5', 'IP6', 'IP7', 'IP8']]\n",
    "y = Final_DF[' Malicious']"
   ]
  },
  {
   "cell_type": "code",
   "execution_count": 18,
   "metadata": {},
   "outputs": [],
   "source": [
    "#Kfold cross validation Technique\n",
    "\n",
    "from sklearn import model_selection\n",
    "\n",
    "kfold = model_selection.KFold(n_splits=10, random_state=42)\n",
    "model = LogisticRegression()\n",
    "model2 = RandomForestClassifier()"
   ]
  },
  {
   "cell_type": "code",
   "execution_count": 20,
   "metadata": {},
   "outputs": [
    {
     "name": "stdout",
     "output_type": "stream",
     "text": [
      "Accuracy: 99.410% (0.708%)\n"
     ]
    }
   ],
   "source": [
    "#Results for Logistic Regression\n",
    "results = model_selection.cross_val_score(model, X, y, cv=kfold)\n",
    "print(\"Accuracy: %.3f%% (%.3f%%)\" % (results.mean()*100.0, results.std()*100.0))"
   ]
  },
  {
   "cell_type": "code",
   "execution_count": 21,
   "metadata": {},
   "outputs": [
    {
     "name": "stdout",
     "output_type": "stream",
     "text": [
      "Accuracy: 100.000% (0.000%)\n"
     ]
    }
   ],
   "source": [
    "#Results for Random Forest Classifier\n",
    "results2 = model_selection.cross_val_score(model2, X, y, cv=kfold)\n",
    "print(\"Accuracy: %.3f%% (%.3f%%)\" % (results2.mean()*100.0, results2.std()*100.0))"
   ]
  },
  {
   "cell_type": "code",
   "execution_count": 22,
   "metadata": {},
   "outputs": [],
   "source": [
    "#Hold Out Validation - Test and train Split\n",
    "from sklearn.model_selection import train_test_split\n",
    "X_train, X_test, y_train, y_test = train_test_split(X, y, test_size=0.33, random_state=42)\n"
   ]
  },
  {
   "cell_type": "code",
   "execution_count": 23,
   "metadata": {},
   "outputs": [
    {
     "data": {
      "text/plain": [
       "LogisticRegression(C=1.0, class_weight=None, dual=False, fit_intercept=True,\n",
       "          intercept_scaling=1, max_iter=100, multi_class='ovr', n_jobs=1,\n",
       "          penalty='l2', random_state=None, solver='liblinear', tol=0.0001,\n",
       "          verbose=0, warm_start=False)"
      ]
     },
     "execution_count": 23,
     "metadata": {},
     "output_type": "execute_result"
    }
   ],
   "source": [
    "#Logistic Regression model\n",
    "logmodel = LogisticRegression()\n",
    "logmodel.fit(X_train,y_train)"
   ]
  },
  {
   "cell_type": "code",
   "execution_count": 24,
   "metadata": {},
   "outputs": [],
   "source": [
    "#Predicting the test data\n",
    "predictions = logmodel.predict(X_test)"
   ]
  },
  {
   "cell_type": "code",
   "execution_count": 25,
   "metadata": {},
   "outputs": [
    {
     "name": "stdout",
     "output_type": "stream",
     "text": [
      "             precision    recall  f1-score   support\n",
      "\n",
      "      False       0.99      1.00      1.00    889531\n",
      "       True       1.00      0.99      0.99    559724\n",
      "\n",
      "avg / total       0.99      0.99      0.99   1449255\n",
      "\n"
     ]
    }
   ],
   "source": [
    "#Classification Report \n",
    "from sklearn.metrics import classification_report\n",
    "print(classification_report(y_test,predictions))\n"
   ]
  },
  {
   "cell_type": "code",
   "execution_count": 38,
   "metadata": {},
   "outputs": [
    {
     "name": "stdout",
     "output_type": "stream",
     "text": [
      "[[887822   1709]\n",
      " [  5761 553963]]\n"
     ]
    }
   ],
   "source": [
    "#Confusion matrix \n",
    "from sklearn.metrics import confusion_matrix\n",
    "CM = confusion_matrix(y_test,predictions)\n",
    "Accuracy = (CM[0][0] + CM[1][1])/CM.sum()\n",
    "print(CM)"
   ]
  }
 ],
 "metadata": {
  "kernelspec": {
   "display_name": "Python 3",
   "language": "python",
   "name": "python3"
  },
  "language_info": {
   "codemirror_mode": {
    "name": "ipython",
    "version": 3
   },
   "file_extension": ".py",
   "mimetype": "text/x-python",
   "name": "python",
   "nbconvert_exporter": "python",
   "pygments_lexer": "ipython3",
   "version": "3.6.5"
  }
 },
 "nbformat": 4,
 "nbformat_minor": 2
}
